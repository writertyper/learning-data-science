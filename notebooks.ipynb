{
 "cells": [
  {
   "cell_type": "markdown",
   "metadata": {},
   "source": []
  },
  {
   "cell_type": "markdown",
   "metadata": {},
   "source": []
  },
  {
   "cell_type": "markdown",
   "metadata": {},
   "source": []
  },
  {
   "cell_type": "markdown",
   "metadata": {},
   "source": [
    "\n",
    "Descriptive Statistics\n",
    "GroupBy\n",
    "Correlation\n",
    "Correlation - Statistics"
   ]
  },
  {
   "cell_type": "code",
   "execution_count": null,
   "metadata": {},
   "outputs": [],
   "source": [
    "import pandas as pd"
   ]
  },
  {
   "cell_type": "markdown",
   "metadata": {},
   "source": [
    "You can summarize the categorical data by using the value_counts() method"
   ]
  },
  {
   "cell_type": "code",
   "execution_count": null,
   "metadata": {},
   "outputs": [],
   "source": []
  },
  {
   "cell_type": "code",
   "execution_count": null,
   "metadata": {},
   "outputs": [],
   "source": [
    "import altair as alt\n",
    "from vega_datasets import data\n",
    "\n",
    "source = data.cars()\n",
    "\n",
    "alt.Chart(source).mark_circle(size=60).encode(\n",
    "    x='Horsepower',\n",
    "    y='Miles_per_Gallon',\n",
    "    color='Origin',\n",
    "    tooltip=['Name', 'Origin', 'Horsepower', 'Miles_per_Gallon']\n",
    ").interactive()"
   ]
  },
  {
   "cell_type": "code",
   "execution_count": null,
   "metadata": {},
   "outputs": [],
   "source": [
    "alt.Chart(source).mark_circle(size=60).encode(\n",
    "    x='Horsepower',\n",
    "    y='Miles_per_Gallon',\n",
    "    color='Origin',\n",
    "    tooltip=['Name', 'Origin', 'Horsepower', 'Miles_per_Gallon']\n",
    ")"
   ]
  },
  {
   "cell_type": "markdown",
   "metadata": {},
   "source": []
  },
  {
   "cell_type": "markdown",
   "metadata": {},
   "source": [
    "# Data Normalizing\n",
    "import pandas as pd\n",
    "df = pd.DataFrame( {\n",
    "    \"length\": [168.8, 168.8, 171.2, 176.6, 176.6, 177.3, 192.7, 192.7, 192.7],\n",
    "    \"width\": [64.1, 64.1, 65.5, 66.2, 66.4, 66.3, 71.4, 71.4, 71.4],\n",
    "    \"height\": [48.8, 48.8, 52.4, 54.3, 54.3, 53.1, 55.7, 55.7, 55.9],\n",
    "\n",
    "})\n",
    "df\n",
    "\n",
    "## Importance of Data Normalization\n",
    "\n",
    "It will be interesting to see what happens without data normalizing.\n",
    "\n",
    "1. Simple Feature scaling\n",
    "2. Min-Max\n",
    "3. Z-score\n",
    "\n",
    "### Simple Feature Scaling \n",
    "\n",
    "x new = x old / x max\n",
    "\n",
    "\n",
    "\n",
    "df[\"length\"] = df[\"length\"]/df[\"length\"].max()\n",
    "df\n",
    "### Min-Max\n",
    "\n",
    "x new = xold - x min / x max - x min\n",
    "\n",
    "df[\"length\"] = (df[\"length\"]-df[\"length\"].min())/(df[\"length\"].max()-df[\"length\"].min())\n",
    "df\n",
    "### Standard Deviation\n",
    "\n",
    "x new = x old - mu / sigma\n",
    "\n",
    "df[\"length\"] = (df[\"length\"]-df[\"length\"].mean())/df[\"length\"].std()\n",
    "df\n",
    "A gas\n",
    "B diesel\n",
    "C gas\n",
    "D gas\n",
    "\n",
    "\n",
    "\n",
    "df = pd.DataFrame( {\n",
    "    \"fuel\": [\"gas\", \"diesel\", \"gas\", \"gas\"],\n",
    "})\n",
    "df\n",
    "pd.get_dummies(df['fuel'])\n",
    "\n",
    "height: 170, 180, 170\n",
    "income: 100000, 20000, 50000\n",
    "\n",
    "height and income are in different ranges, and it may be hard to compare.\n",
    "Without normalization, income will influence the result more. \n",
    "\n",
    "\n",
    "\n",
    "sepalLength\tsepalWidth\tpetalLength\tpetalWidth\tspecies\n",
    "0\t5.1\t3.5\t1.4\t0.2\tsetosa\n",
    "1\t4.9\t3.0\t1.4\t0.2\tsetosa\n",
    "2\t4.7\t3.2\t1.3\t0.2\tsetosa\n",
    "3\t4.6\t3.1\t1.5\t0.2\tsetosa\n",
    "4\t5.0\t3.6\t1.4\t0.2\tsetosa\n",
    "Name\tMiles_per_Gallon\tCylinders\tDisplacement\tHorsepower\tWeight_in_lbs\tAcceleration\tYear\tOrigin\n",
    "0\tchevrolet chevelle malibu\t18.0\t8\t307.0\t130.0\t3504\t12.0\t1970-01-01\tUSA\n",
    "1\tbuick skylark 320\t15.0\t8\t350.0\t165.0\t3693\t11.5\t1970-01-01\tUSA\n",
    "2\tplymouth satellite\t18.0\t8\t318.0\t150.0\t3436\t11.0\t1970-01-01\tUSA\n",
    "3\tamc rebel sst\t16.0\t8\t304.0\t150.0\t3433\t12.0\t1970-01-01\tUSA\n",
    "4\tford torino\t17.0\t8\t302.0\t140.0\t3449\t10.5\t1970-01-01\tUSA\n",
    "...\t...\t...\t...\t...\t...\t...\t...\t...\t...\n",
    "401\tford mustang gl\t27.0\t4\t140.0\t86.0\t2790\t15.6\t1982-01-01\tUSA\n",
    "402\tvw pickup\t44.0\t4\t97.0\t52.0\t2130\t24.6\t1982-01-01\tEurope\n",
    "403\tdodge rampage\t32.0\t4\t135.0\t84.0\t2295\t11.6\t1982-01-01\tUSA\n",
    "404\tford ranger\t28.0\t4\t120.0\t79.0\t2625\t18.6\t1982-01-01\tUSA\n",
    "405\tchevy s-10\t31.0\t4\t119.0\t82.0\t2720\t19.4\t1982-01-01\tUSA\n",
    "406 rows × 9 columns\n",
    "\n",
    "Index(['Name', 'Miles_per_Gallon', 'Cylinders', 'Displacement', 'Horsepower',\n",
    "       'Weight_in_lbs', 'Acceleration', 'Year', 'Origin'],\n",
    "      dtype='object')\n",
    "Miles_per_Gallon\tCylinders\tDisplacement\n",
    "0\t9.0\t8\t304.00\n",
    "1\t10.0\t8\t333.50\n",
    "2\t11.0\t8\t374.25\n",
    "3\t12.0\t8\t394.50\n",
    "4\t13.0\t8\t353.00\n",
    "...\t...\t...\t...\n",
    "154\t43.4\t4\t90.00\n",
    "155\t44.0\t4\t97.00\n",
    "156\t44.3\t4\t90.00\n",
    "157\t44.6\t4\t91.00\n",
    "158\t46.6\t4\t86.00\n",
    "159 rows × 3 columns\n",
    "\n",
    "Cylinders\tMiles_per_Gallon\n",
    "0\t3\t20.550000\n",
    "1\t4\t29.286765\n",
    "2\t5\t27.366667\n",
    "3\t6\t19.985714\n",
    "4\t8\t14.963107\n",
    "Miles_per_Gallon\n",
    "14.963107\n",
    "19.985714\n",
    "20.550000\n",
    "27.366667\n",
    "29.286765"
   ]
  },
  {
   "cell_type": "code",
   "execution_count": null,
   "metadata": {},
   "outputs": [],
   "source": []
  },
  {
   "cell_type": "code",
   "execution_count": null,
   "metadata": {},
   "outputs": [],
   "source": []
  }
 ],
 "metadata": {
  "interpreter": {
   "hash": "0b6ce98c3096834a7a501856e3303731ddbe0942f37d88665ab51c442e15a354"
  },
  "kernelspec": {
   "display_name": "Python 3.10.0 64-bit",
   "language": "python",
   "name": "python3"
  },
  "language_info": {
   "codemirror_mode": {
    "name": "ipython",
    "version": 3
   },
   "file_extension": ".py",
   "mimetype": "text/x-python",
   "name": "python",
   "nbconvert_exporter": "python",
   "pygments_lexer": "ipython3",
   "version": "3.10.0"
  },
  "orig_nbformat": 4
 },
 "nbformat": 4,
 "nbformat_minor": 2
}
